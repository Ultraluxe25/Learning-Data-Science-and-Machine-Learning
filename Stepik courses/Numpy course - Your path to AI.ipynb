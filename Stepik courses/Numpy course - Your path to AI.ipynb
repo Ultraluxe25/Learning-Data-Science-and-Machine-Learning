{
 "cells": [
  {
   "cell_type": "markdown",
   "id": "1526fbb4",
   "metadata": {},
   "source": [
    "# Experiment for numeric precision"
   ]
  },
  {
   "cell_type": "code",
   "execution_count": 1,
   "id": "5c6813e5",
   "metadata": {},
   "outputs": [],
   "source": [
    "import sys\n",
    "import numpy as np"
   ]
  },
  {
   "cell_type": "code",
   "execution_count": 2,
   "id": "875090e7",
   "metadata": {},
   "outputs": [
    {
     "name": "stdout",
     "output_type": "stream",
     "text": [
      "CPU times: total: 6min 13s\n",
      "Wall time: 6min 16s\n"
     ]
    },
    {
     "data": {
      "text/plain": [
       "800000112"
      ]
     },
     "execution_count": 2,
     "metadata": {},
     "output_type": "execute_result"
    }
   ],
   "source": [
    "%%time\n",
    "np.random.seed(26)\n",
    "int64 = np.array(object=[np.random.randint(low=1, high=10) for _ in range(100_000_000)], dtype=np.int64)\n",
    "result = [int64 @ int64 for _ in range(5)]\n",
    "\n",
    "size_in_bytes = sys.getsizeof(int64)\n",
    "size_in_bytes"
   ]
  },
  {
   "cell_type": "code",
   "execution_count": 3,
   "id": "6eee83b5",
   "metadata": {},
   "outputs": [
    {
     "name": "stdout",
     "output_type": "stream",
     "text": [
      "CPU times: total: 5min 59s\n",
      "Wall time: 6min 1s\n"
     ]
    },
    {
     "data": {
      "text/plain": [
       "400000112"
      ]
     },
     "execution_count": 3,
     "metadata": {},
     "output_type": "execute_result"
    }
   ],
   "source": [
    "%%time\n",
    "np.random.seed(26)\n",
    "int32 = np.array(object=[np.random.randint(low=1, high=10) for _ in range(100_000_000)], dtype=np.int32)\n",
    "result = [int32 @ int32 for _ in range(5)]\n",
    "\n",
    "size_in_bytes = sys.getsizeof(int32)\n",
    "size_in_bytes"
   ]
  },
  {
   "cell_type": "code",
   "execution_count": 4,
   "id": "25a2d7e8",
   "metadata": {},
   "outputs": [
    {
     "name": "stdout",
     "output_type": "stream",
     "text": [
      "CPU times: total: 6min 3s\n",
      "Wall time: 6min 6s\n"
     ]
    },
    {
     "data": {
      "text/plain": [
       "200000112"
      ]
     },
     "execution_count": 4,
     "metadata": {},
     "output_type": "execute_result"
    }
   ],
   "source": [
    "%%time\n",
    "np.random.seed(26)\n",
    "int16 = np.array(object=[np.random.randint(low=1, high=10) for _ in range(100_000_000)], dtype=np.int16)\n",
    "result = [int16 @ int16 for _ in range(5)]\n",
    "\n",
    "size_in_bytes = sys.getsizeof(int16)\n",
    "size_in_bytes"
   ]
  },
  {
   "cell_type": "code",
   "execution_count": 5,
   "id": "3617b166",
   "metadata": {},
   "outputs": [
    {
     "name": "stdout",
     "output_type": "stream",
     "text": [
      "CPU times: total: 5min 47s\n",
      "Wall time: 5min 48s\n"
     ]
    },
    {
     "data": {
      "text/plain": [
       "100000112"
      ]
     },
     "execution_count": 5,
     "metadata": {},
     "output_type": "execute_result"
    }
   ],
   "source": [
    "%%time\n",
    "np.random.seed(26)\n",
    "int8 = np.array(object=[np.random.randint(low=1, high=10) for _ in range(100_000_000)], dtype=np.int8)\n",
    "result = [int8 @ int8 for _ in range(5)]\n",
    "\n",
    "size_in_bytes = sys.getsizeof(int8)\n",
    "size_in_bytes"
   ]
  },
  {
   "cell_type": "code",
   "execution_count": 6,
   "id": "845eec35",
   "metadata": {},
   "outputs": [
    {
     "name": "stdout",
     "output_type": "stream",
     "text": [
      "CPU times: total: 5min 54s\n",
      "Wall time: 5min 53s\n"
     ]
    },
    {
     "data": {
      "text/plain": [
       "800000112"
      ]
     },
     "execution_count": 6,
     "metadata": {},
     "output_type": "execute_result"
    }
   ],
   "source": [
    "%%time\n",
    "np.random.seed(26)\n",
    "float64 = np.array(object=[np.random.randint(low=1, high=10) for _ in range(100_000_000)], dtype=np.float64)\n",
    "result = [float64 @ float64 for _ in range(5)]\n",
    "\n",
    "size_in_bytes = sys.getsizeof(float64)\n",
    "size_in_bytes"
   ]
  },
  {
   "cell_type": "code",
   "execution_count": 7,
   "id": "f3d97bf7",
   "metadata": {},
   "outputs": [
    {
     "name": "stdout",
     "output_type": "stream",
     "text": [
      "CPU times: total: 5min 50s\n",
      "Wall time: 5min 51s\n"
     ]
    },
    {
     "data": {
      "text/plain": [
       "400000112"
      ]
     },
     "execution_count": 7,
     "metadata": {},
     "output_type": "execute_result"
    }
   ],
   "source": [
    "%%time\n",
    "np.random.seed(26)\n",
    "float32 = np.array(object=[np.random.randint(low=1, high=10) for _ in range(100_000_000)], dtype=np.float32)\n",
    "result = [float32 @ float32 for _ in range(5)]\n",
    "\n",
    "size_in_bytes = sys.getsizeof(float32)\n",
    "size_in_bytes"
   ]
  },
  {
   "cell_type": "code",
   "execution_count": 8,
   "id": "8ac847dc",
   "metadata": {},
   "outputs": [
    {
     "name": "stderr",
     "output_type": "stream",
     "text": [
      "<timed exec>:3: RuntimeWarning: overflow encountered in matmul\n"
     ]
    },
    {
     "name": "stdout",
     "output_type": "stream",
     "text": [
      "CPU times: total: 5min 58s\n",
      "Wall time: 6min\n"
     ]
    },
    {
     "data": {
      "text/plain": [
       "200000112"
      ]
     },
     "execution_count": 8,
     "metadata": {},
     "output_type": "execute_result"
    }
   ],
   "source": [
    "%%time\n",
    "np.random.seed(26)\n",
    "float16 = np.array(object=[np.random.randint(low=1, high=10) for _ in range(100_000_000)], dtype=np.float16)\n",
    "result = [float16 @ float16 for _ in range(5)]\n",
    "\n",
    "size_in_bytes = sys.getsizeof(float16)\n",
    "size_in_bytes"
   ]
  },
  {
   "cell_type": "markdown",
   "id": "b3b0ecc9",
   "metadata": {},
   "source": [
    "# There is no float8 type in NumPy"
   ]
  }
 ],
 "metadata": {
  "kernelspec": {
   "display_name": "Python 3 (ipykernel)",
   "language": "python",
   "name": "python3"
  },
  "language_info": {
   "codemirror_mode": {
    "name": "ipython",
    "version": 3
   },
   "file_extension": ".py",
   "mimetype": "text/x-python",
   "name": "python",
   "nbconvert_exporter": "python",
   "pygments_lexer": "ipython3",
   "version": "3.11.4"
  },
  "varInspector": {
   "cols": {
    "lenName": 16,
    "lenType": 16,
    "lenVar": 40
   },
   "kernels_config": {
    "python": {
     "delete_cmd_postfix": "",
     "delete_cmd_prefix": "del ",
     "library": "var_list.py",
     "varRefreshCmd": "print(var_dic_list())"
    },
    "r": {
     "delete_cmd_postfix": ") ",
     "delete_cmd_prefix": "rm(",
     "library": "var_list.r",
     "varRefreshCmd": "cat(var_dic_list()) "
    }
   },
   "types_to_exclude": [
    "module",
    "function",
    "builtin_function_or_method",
    "instance",
    "_Feature"
   ],
   "window_display": false
  }
 },
 "nbformat": 4,
 "nbformat_minor": 5
}
